{
 "cells": [
  {
   "cell_type": "code",
   "execution_count": 1,
   "metadata": {},
   "outputs": [],
   "source": [
    "#download population data\n",
    "\n",
    "import pandas as pd\n",
    "from pysus.ftp.utils import zfill_year\n",
    "import requests\n",
    "from pysus.online_data import IBGE\n",
    "from pprint import pprint"
   ]
  },
  {
   "cell_type": "code",
   "execution_count": 2,
   "metadata": {},
   "outputs": [
    {
     "name": "stdout",
     "output_type": "stream",
     "text": [
      "('The years available for source `POP` are: [1992, 1993, 1994, 1995, 1997, '\n",
      " '1998, 1999, 2000, 2001, 2002, 2003, 2004, 2005, 2006, 2007, 2008, 2009, '\n",
      " '2010, 2011, 2012, 2013, 2014, 2015, 2016, 2017, 2018, 2019, 2020, 2021]')\n"
     ]
    }
   ],
   "source": [
    "def get_available_years(source):\n",
    "    return sorted(set([zfill_year(f.name[-2:]) for f in IBGE.ibge.get_files(source=source)]))\n",
    "\n",
    "\n",
    "pprint(f\"The years available for source `POP` are: {get_available_years('POP')}\")"
   ]
  },
  {
   "cell_type": "code",
   "execution_count": 7,
   "metadata": {},
   "outputs": [
    {
     "data": {
      "text/plain": [
       "[1991, 2000, 2010]"
      ]
     },
     "execution_count": 7,
     "metadata": {},
     "output_type": "execute_result"
    }
   ],
   "source": [
    "get_available_years('censo')"
   ]
  },
  {
   "cell_type": "code",
   "execution_count": 3,
   "metadata": {},
   "outputs": [
    {
     "name": "stdout",
     "output_type": "stream",
     "text": [
      "Help on function get_population in module pysus.online_data.IBGE:\n",
      "\n",
      "get_population(year: int, source: Literal['POP', 'censo', 'POPTCU', 'projpop'] = 'POPTCU', censo_data: Literal['ALF', 'ESCA', 'ESCB', 'IDOSO', 'RENDA'] = 'ALF') -> pandas.core.frame.DataFrame\n",
      "    Get population data from IBGE as shared by DATASUS\n",
      "    :param year: year of the data\n",
      "    :param source: \n",
      "         \"POP\" - 1992-presente: Estimativas populacionais estratificadas por \n",
      "                 idade e sexo.\n",
      "         \"censo\" - 1991, 2000 e 2010: Censos Demográficos\n",
      "         \"POPTCU\" - 1992-presente: Estimativas populacionais enviadas para o TCU,\n",
      "                    estratificadas por idade e sexo pelo MS/SGEP/Datasus.\n",
      "         \"projpop\": Estimativas preliminares para os anos intercensitários dos \n",
      "                    totais populacionais, estratificadas por idade e sexo pelo \n",
      "                    MS/SGEP/Datasus.\n",
      "    :param censo_data: \n",
      "        \"ALF\": Censo Demográfico\n",
      "        \"ESCA\": Censo Escolar da Educação Básica\n",
      "        \"ESCB\": Censo Escolar da Educação Superior\n",
      "        \"IDOSO\": População de pessoas com 65 anos ou mais\n",
      "        \"RENDA\": População de pessoas de acordo com a renda familiar\n",
      "    :return: DataFrame with population data\n",
      "\n"
     ]
    }
   ],
   "source": [
    "help(IBGE.get_population)"
   ]
  },
  {
   "cell_type": "code",
   "execution_count": 4,
   "metadata": {},
   "outputs": [],
   "source": [
    "pop_list = [ IBGE.get_population(year, source=\"POP\") for year in get_available_years('POP')]"
   ]
  },
  {
   "cell_type": "code",
   "execution_count": 5,
   "metadata": {},
   "outputs": [
    {
     "data": {
      "text/plain": [
       "29"
      ]
     },
     "execution_count": 5,
     "metadata": {},
     "output_type": "execute_result"
    }
   ],
   "source": [
    "len(pop_list)"
   ]
  },
  {
   "cell_type": "code",
   "execution_count": 8,
   "metadata": {},
   "outputs": [
    {
     "data": {
      "text/html": [
       "<div>\n",
       "<style scoped>\n",
       "    .dataframe tbody tr th:only-of-type {\n",
       "        vertical-align: middle;\n",
       "    }\n",
       "\n",
       "    .dataframe tbody tr th {\n",
       "        vertical-align: top;\n",
       "    }\n",
       "\n",
       "    .dataframe thead th {\n",
       "        text-align: right;\n",
       "    }\n",
       "</style>\n",
       "<table border=\"1\" class=\"dataframe\">\n",
       "  <thead>\n",
       "    <tr style=\"text-align: right;\">\n",
       "      <th></th>\n",
       "      <th>MUNIC_RES</th>\n",
       "      <th>ANO</th>\n",
       "      <th>POPULACAO</th>\n",
       "    </tr>\n",
       "  </thead>\n",
       "  <tbody>\n",
       "    <tr>\n",
       "      <th>0</th>\n",
       "      <td>110001</td>\n",
       "      <td>1992</td>\n",
       "      <td>34768</td>\n",
       "    </tr>\n",
       "    <tr>\n",
       "      <th>1</th>\n",
       "      <td>110002</td>\n",
       "      <td>1992</td>\n",
       "      <td>61737</td>\n",
       "    </tr>\n",
       "    <tr>\n",
       "      <th>2</th>\n",
       "      <td>110003</td>\n",
       "      <td>1992</td>\n",
       "      <td>8633</td>\n",
       "    </tr>\n",
       "    <tr>\n",
       "      <th>3</th>\n",
       "      <td>110004</td>\n",
       "      <td>1992</td>\n",
       "      <td>72462</td>\n",
       "    </tr>\n",
       "    <tr>\n",
       "      <th>4</th>\n",
       "      <td>110005</td>\n",
       "      <td>1992</td>\n",
       "      <td>23280</td>\n",
       "    </tr>\n",
       "  </tbody>\n",
       "</table>\n",
       "</div>"
      ],
      "text/plain": [
       "  MUNIC_RES   ANO  POPULACAO\n",
       "0    110001  1992      34768\n",
       "1    110002  1992      61737\n",
       "2    110003  1992       8633\n",
       "3    110004  1992      72462\n",
       "4    110005  1992      23280"
      ]
     },
     "execution_count": 8,
     "metadata": {},
     "output_type": "execute_result"
    }
   ],
   "source": [
    "df = pd.concat(pop_list)\n",
    "df.head()"
   ]
  },
  {
   "cell_type": "code",
   "execution_count": 9,
   "metadata": {},
   "outputs": [
    {
     "name": "stdout",
     "output_type": "stream",
     "text": [
      "<class 'pandas.core.frame.DataFrame'>\n",
      "Index: 158821 entries, 0 to 5569\n",
      "Data columns (total 3 columns):\n",
      " #   Column     Non-Null Count   Dtype \n",
      "---  ------     --------------   ----- \n",
      " 0   MUNIC_RES  158821 non-null  string\n",
      " 1   ANO        158821 non-null  string\n",
      " 2   POPULACAO  158821 non-null  string\n",
      "dtypes: string(3)\n",
      "memory usage: 4.8 MB\n"
     ]
    }
   ],
   "source": [
    "df.info()"
   ]
  },
  {
   "cell_type": "code",
   "execution_count": 10,
   "metadata": {},
   "outputs": [
    {
     "data": {
      "text/html": [
       "<div>\n",
       "<style scoped>\n",
       "    .dataframe tbody tr th:only-of-type {\n",
       "        vertical-align: middle;\n",
       "    }\n",
       "\n",
       "    .dataframe tbody tr th {\n",
       "        vertical-align: top;\n",
       "    }\n",
       "\n",
       "    .dataframe thead th {\n",
       "        text-align: right;\n",
       "    }\n",
       "</style>\n",
       "<table border=\"1\" class=\"dataframe\">\n",
       "  <thead>\n",
       "    <tr style=\"text-align: right;\">\n",
       "      <th></th>\n",
       "      <th>MUNIC_RES</th>\n",
       "      <th>ANO</th>\n",
       "      <th>POPULACAO</th>\n",
       "    </tr>\n",
       "  </thead>\n",
       "  <tbody>\n",
       "    <tr>\n",
       "      <th>count</th>\n",
       "      <td>158821</td>\n",
       "      <td>158821</td>\n",
       "      <td>158821</td>\n",
       "    </tr>\n",
       "    <tr>\n",
       "      <th>unique</th>\n",
       "      <td>11141</td>\n",
       "      <td>29</td>\n",
       "      <td>68845</td>\n",
       "    </tr>\n",
       "    <tr>\n",
       "      <th>top</th>\n",
       "      <td>110001</td>\n",
       "      <td>2021</td>\n",
       "      <td>2630</td>\n",
       "    </tr>\n",
       "    <tr>\n",
       "      <th>freq</th>\n",
       "      <td>24</td>\n",
       "      <td>5570</td>\n",
       "      <td>21</td>\n",
       "    </tr>\n",
       "  </tbody>\n",
       "</table>\n",
       "</div>"
      ],
      "text/plain": [
       "       MUNIC_RES     ANO  POPULACAO\n",
       "count     158821  158821     158821\n",
       "unique     11141      29      68845\n",
       "top       110001    2021       2630\n",
       "freq          24    5570         21"
      ]
     },
     "execution_count": 10,
     "metadata": {},
     "output_type": "execute_result"
    }
   ],
   "source": [
    "df.describe()"
   ]
  },
  {
   "cell_type": "code",
   "execution_count": 12,
   "metadata": {},
   "outputs": [],
   "source": [
    "df.to_csv(\"sample/population.csv\",index=False)"
   ]
  }
 ],
 "metadata": {
  "kernelspec": {
   "display_name": ".venv",
   "language": "python",
   "name": "python3"
  },
  "language_info": {
   "codemirror_mode": {
    "name": "ipython",
    "version": 3
   },
   "file_extension": ".py",
   "mimetype": "text/x-python",
   "name": "python",
   "nbconvert_exporter": "python",
   "pygments_lexer": "ipython3",
   "version": "3.10.12"
  }
 },
 "nbformat": 4,
 "nbformat_minor": 2
}
