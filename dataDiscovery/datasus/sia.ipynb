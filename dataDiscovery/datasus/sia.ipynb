{
 "cells": [
  {
   "cell_type": "code",
   "execution_count": null,
   "metadata": {},
   "outputs": [],
   "source": [
    "from pysus.online_data import SIA\n",
    "import glob\n",
    "import os\n",
    "import pandas as pd   \n",
    "import sys\n",
    "\n",
    "SIA.download('MA', [2019], [1,2,3,4,5,6,7,8,9,10,11,12], groups=[ \"PA\"], data_dir= \"./cache\" )"
   ]
  }
 ],
 "metadata": {
  "language_info": {
   "name": "python"
  }
 },
 "nbformat": 4,
 "nbformat_minor": 2
}
